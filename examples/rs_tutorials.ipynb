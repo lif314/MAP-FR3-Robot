{
 "cells": [
  {
   "cell_type": "code",
   "execution_count": 33,
   "metadata": {},
   "outputs": [],
   "source": [
    "import pyrealsense2 as rs\n",
    "import numpy as np\n",
    "import time\n",
    "import os\n",
    "import matplotlib.pyplot as plt\n",
    "import open3d as o3d\n",
    "import sys\n",
    "\n",
    "\n",
    "parent_dir = os.path.dirname(os.getcwd())\n",
    "sys.path.append(parent_dir)\n",
    "from realsense.realsense import Camera\n",
    "from realsense.realsense import get_devices"
   ]
  },
  {
   "cell_type": "markdown",
   "metadata": {},
   "source": [
    "# single camera"
   ]
  },
  {
   "cell_type": "code",
   "execution_count": 34,
   "metadata": {},
   "outputs": [
    {
     "ename": "IndexError",
     "evalue": "list index out of range",
     "output_type": "error",
     "traceback": [
      "\u001b[0;31m---------------------------------------------------------------------------\u001b[0m",
      "\u001b[0;31mIndexError\u001b[0m                                Traceback (most recent call last)",
      "Cell \u001b[0;32mIn[34], line 5\u001b[0m\n\u001b[1;32m      2\u001b[0m device_serials \u001b[38;5;241m=\u001b[39m get_devices()\n\u001b[1;32m      4\u001b[0m \u001b[38;5;66;03m# Print selected device serial numbers\u001b[39;00m\n\u001b[0;32m----> 5\u001b[0m \u001b[38;5;28mprint\u001b[39m(\u001b[38;5;124m\"\u001b[39m\u001b[38;5;124mSelected device serial numbers:\u001b[39m\u001b[38;5;124m\"\u001b[39m, \u001b[43mdevice_serials\u001b[49m\u001b[43m[\u001b[49m\u001b[38;5;241;43m0\u001b[39;49m\u001b[43m]\u001b[49m)\n\u001b[1;32m      7\u001b[0m rgb_resolution \u001b[38;5;241m=\u001b[39m (\u001b[38;5;241m1280\u001b[39m, \u001b[38;5;241m720\u001b[39m)  \u001b[38;5;66;03m# RGB resolution (width, height)\u001b[39;00m\n\u001b[1;32m      8\u001b[0m depth_resolution \u001b[38;5;241m=\u001b[39m (\u001b[38;5;241m1280\u001b[39m, \u001b[38;5;241m720\u001b[39m)  \u001b[38;5;66;03m# Depth resolution (width, height)\u001b[39;00m\n",
      "\u001b[0;31mIndexError\u001b[0m: list index out of range"
     ]
    }
   ],
   "source": [
    "# Enumerate connected RealSense cameras\n",
    "device_serials = get_devices()\n",
    "\n",
    "# Print selected device serial numbers\n",
    "print(\"Selected device serial numbers:\", device_serials[0])\n",
    "\n",
    "rgb_resolution = (1280, 720)  # RGB resolution (width, height)\n",
    "depth_resolution = (1280, 720)  # Depth resolution (width, height)\n",
    "\n",
    "camera = Camera(device_serials[0], rgb_resolution, depth_resolution)\n",
    "\n",
    "# Delay before shooting (in seconds)\n",
    "delay_before_shooting = 1\n",
    "\n",
    "try:\n",
    "    camera.start()\n",
    "    \n",
    "    rgb_intrinsics, rgb_coeffs, depth_intrinsics, depth_coeffs = camera.get_intrinsics_matrix()\n",
    "    print(f\"RGB Intrinsics: {rgb_intrinsics}\")\n",
    "    print(f\"RGB Distortion Coefficients: {rgb_coeffs}\")\n",
    "    depth_scale = camera.get_depth_scale()\n",
    "    print(f\"Depth Scale: {depth_scale}\")\n",
    "    print(f\"Depth Intrinsics: {depth_intrinsics}\")\n",
    "    print(f\"Depth Distortion Coefficients: {depth_coeffs}\")\n",
    "    \n",
    "    \n",
    "    time.sleep(delay_before_shooting)  # Introduce delay before shooting\n",
    "    color_image, depth_image = camera.shoot()\n",
    "    if color_image is not None and depth_image is not None:\n",
    "        # show the rgb and depth images\n",
    "        plt.subplot(1, 2, 1)\n",
    "        plt.imshow(color_image)\n",
    "        plt.title('RGB Image')\n",
    "        plt.axis('off')\n",
    "        plt.subplot(1, 2, 2)\n",
    "        plt.imshow(depth_image)\n",
    "        plt.title('Depth Image')\n",
    "        plt.axis('off')\n",
    "        plt.show()\n",
    "    else:\n",
    "        print(f\"Failed to capture images from camera {camera.serial_number}\")\n",
    "finally:\n",
    "    camera.stop()"
   ]
  },
  {
   "cell_type": "markdown",
   "metadata": {},
   "source": [
    "# multiple camera"
   ]
  },
  {
   "cell_type": "code",
   "execution_count": 9,
   "metadata": {},
   "outputs": [
    {
     "name": "stdout",
     "output_type": "stream",
     "text": [
      "Selected device serial numbers: ['033322071090']\n",
      "Saved ../../shoot_test/camera_5/1711583802.png\n",
      "Saved ../../shoot_test/camera_5/1711583802.npy\n"
     ]
    }
   ],
   "source": [
    "# Enumerate connected RealSense cameras\n",
    "device_serials = get_devices()\n",
    "\n",
    "# Print selected device serial numbers\n",
    "print(\"Selected device serial numbers:\", device_serials)\n",
    "\n",
    "# Directory for saving images\n",
    "base_dir = '../../shoot_test'\n",
    "\n",
    "rgb_resolution = (1280, 720)  # RGB resolution (width, height)\n",
    "depth_resolution = (1280, 720)  # Depth resolution (width, height)\n",
    "\n",
    "cameras = [Camera(serial_number, rgb_resolution, depth_resolution) for serial_number in device_serials]\n",
    "\n",
    "# Delay before shooting (in seconds)\n",
    "delay_before_shooting = 1\n",
    "\n",
    "try:\n",
    "    for camera in cameras:\n",
    "        camera.start()\n",
    "        time.sleep(delay_before_shooting)  # Introduce delay before shooting\n",
    "        color_image, depth_image = camera.shoot()\n",
    "        if color_image is not None and depth_image is not None:\n",
    "            # Save the images or perform any desired processing here\n",
    "            camera_dir = os.path.join(base_dir, f'camera_{camera.serial_id}')\n",
    "            os.makedirs(camera_dir, exist_ok=True)\n",
    "            timestamp = int(time.time())\n",
    "            rgb_filename = os.path.join(camera_dir, f'{timestamp}.png')\n",
    "            depth_filename = os.path.join(camera_dir, f'{timestamp}.npy')\n",
    "            plt.imsave(rgb_filename, color_image)\n",
    "            np.save(depth_filename, depth_image)\n",
    "            print(f\"Saved {rgb_filename}\")\n",
    "            print(f\"Saved {depth_filename}\")\n",
    "        else:\n",
    "            print(f\"Failed to capture images from camera {camera.serial_number}\")\n",
    "finally:\n",
    "    for camera in cameras:\n",
    "        camera.stop()"
   ]
  },
  {
   "cell_type": "markdown",
   "metadata": {},
   "source": [
    "# 3d reconstruction"
   ]
  },
  {
   "cell_type": "code",
   "execution_count": 12,
   "metadata": {},
   "outputs": [
    {
     "name": "stdout",
     "output_type": "stream",
     "text": [
      "Selected device serial numbers: 048122072163\n"
     ]
    }
   ],
   "source": [
    "# Enumerate connected RealSense cameras\n",
    "device_serials = get_devices()\n",
    "\n",
    "# Print selected device serial numbers\n",
    "print(\"Selected device serial numbers:\", device_serials[0])\n",
    "\n",
    "rgb_resolution = (1280, 720)  # RGB resolution (width, height)\n",
    "depth_resolution = (1280, 720)  # Depth resolution (width, height)\n",
    "\n",
    "camera = Camera(device_serials[0], rgb_resolution, depth_resolution)\n",
    "\n",
    "# Delay before shooting (in seconds)\n",
    "delay_before_shooting = 1\n",
    "\n",
    "try:\n",
    "    camera.start()\n",
    "    time.sleep(delay_before_shooting)  # Introduce delay before shooting\n",
    "    pcd = camera.get_pointcloud(depth_trunc=1.0)\n",
    "    # Visualize the point cloud\n",
    "    o3d.visualization.draw_geometries([pcd])\n",
    "finally:\n",
    "    camera.stop()"
   ]
  }
 ],
 "metadata": {
  "kernelspec": {
   "display_name": "franka_robot",
   "language": "python",
   "name": "python3"
  },
  "language_info": {
   "codemirror_mode": {
    "name": "ipython",
    "version": 3
   },
   "file_extension": ".py",
   "mimetype": "text/x-python",
   "name": "python",
   "nbconvert_exporter": "python",
   "pygments_lexer": "ipython3",
   "version": "3.8.0"
  }
 },
 "nbformat": 4,
 "nbformat_minor": 2
}
